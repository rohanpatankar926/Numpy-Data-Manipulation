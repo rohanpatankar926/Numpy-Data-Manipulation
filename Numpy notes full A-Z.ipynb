{
 "cells": [
  {
   "cell_type": "markdown",
   "id": "9aea6721",
   "metadata": {},
   "source": [
    "## NUMPY DATA MANIPULATION FULL A-Z"
   ]
  },
  {
   "cell_type": "code",
   "execution_count": 1,
   "id": "7e7644b6",
   "metadata": {},
   "outputs": [],
   "source": [
    "import numpy as np"
   ]
  },
  {
   "cell_type": "code",
   "execution_count": 2,
   "id": "6e7f2b8b",
   "metadata": {},
   "outputs": [
    {
     "data": {
      "text/plain": [
       "array(['1', 'hello', '3'], dtype='<U11')"
      ]
     },
     "execution_count": 2,
     "metadata": {},
     "output_type": "execute_result"
    }
   ],
   "source": [
    "np.array([1,\"hello\",3])"
   ]
  },
  {
   "cell_type": "code",
   "execution_count": 3,
   "id": "37190ef7",
   "metadata": {},
   "outputs": [
    {
     "data": {
      "text/plain": [
       "array([[1, 2],\n",
       "       [3, 4]])"
      ]
     },
     "execution_count": 3,
     "metadata": {},
     "output_type": "execute_result"
    }
   ],
   "source": [
    "#2d arrays\n",
    "np.array([[1,2],[3,4]])"
   ]
  },
  {
   "cell_type": "code",
   "execution_count": 6,
   "id": "791915d0",
   "metadata": {},
   "outputs": [
    {
     "data": {
      "text/plain": [
       "array([[[[[1, 2]]]]])"
      ]
     },
     "execution_count": 6,
     "metadata": {},
     "output_type": "execute_result"
    }
   ],
   "source": [
    "#min dim 2:\n",
    "np.array([1,2],ndmin=5)"
   ]
  },
  {
   "cell_type": "code",
   "execution_count": 11,
   "id": "5e323ffc",
   "metadata": {},
   "outputs": [
    {
     "data": {
      "text/plain": [
       "array([1.+0.j, 2.+0.j, 3.+0.j])"
      ]
     },
     "execution_count": 11,
     "metadata": {},
     "output_type": "execute_result"
    }
   ],
   "source": [
    "#dtype\n",
    "dtype=np.array([1,2,3],dtype=complex)\n",
    "dtype"
   ]
  },
  {
   "cell_type": "code",
   "execution_count": 15,
   "id": "4401357c",
   "metadata": {},
   "outputs": [
    {
     "data": {
      "text/plain": [
       "array([(1, 2), (3, 4)], dtype=[('a', '<i2'), ('b', '<i8')])"
      ]
     },
     "execution_count": 15,
     "metadata": {},
     "output_type": "execute_result"
    }
   ],
   "source": [
    "#data-type consisting more than one element\n",
    "np.array([(1,2),(3,4)],dtype=[(\"a\",\"<i2\"),(\"b\",\"<i8\")])"
   ]
  },
  {
   "cell_type": "code",
   "execution_count": 21,
   "id": "50d47c81",
   "metadata": {},
   "outputs": [
    {
     "name": "stdout",
     "output_type": "stream",
     "text": [
      "[1 2]\n",
      "[3 4]\n",
      "1\n",
      "2\n",
      "3\n",
      "4\n"
     ]
    }
   ],
   "source": [
    "x=np.array([[1,2],[3,4]])\n",
    "print(x[0])\n",
    "print(x[1])\n",
    "print(x[0][0])\n",
    "print(x[0][1])\n",
    "print(x[1][0])\n",
    "print(x[1][1])"
   ]
  },
  {
   "cell_type": "code",
   "execution_count": 22,
   "id": "1ee23386",
   "metadata": {},
   "outputs": [
    {
     "data": {
      "text/plain": [
       "matrix([[1, 2],\n",
       "        [3, 4]])"
      ]
     },
     "execution_count": 22,
     "metadata": {},
     "output_type": "execute_result"
    }
   ],
   "source": [
    "#matrix\n",
    "np.mat([[1,2],[3,4]])"
   ]
  },
  {
   "cell_type": "markdown",
   "id": "7584791e",
   "metadata": {},
   "source": [
    "### numpy.asarray()"
   ]
  },
  {
   "cell_type": "code",
   "execution_count": 23,
   "id": "5d157667",
   "metadata": {},
   "outputs": [],
   "source": [
    "#it will convert input to array\n",
    "#also list to array"
   ]
  },
  {
   "cell_type": "code",
   "execution_count": 24,
   "id": "9e65ea00",
   "metadata": {},
   "outputs": [
    {
     "data": {
      "text/plain": [
       "array([1, 2])"
      ]
     },
     "execution_count": 24,
     "metadata": {},
     "output_type": "execute_result"
    }
   ],
   "source": [
    "a=[1,2]\n",
    "np.asarray(a)"
   ]
  },
  {
   "cell_type": "code",
   "execution_count": 26,
   "id": "a7bf00ee",
   "metadata": {},
   "outputs": [
    {
     "data": {
      "text/plain": [
       "array([[1, 1]])"
      ]
     },
     "execution_count": 26,
     "metadata": {},
     "output_type": "execute_result"
    }
   ],
   "source": [
    "a=[[1,1]]\n",
    "np.asarray(a)"
   ]
  },
  {
   "cell_type": "code",
   "execution_count": 27,
   "id": "27e9557e",
   "metadata": {},
   "outputs": [
    {
     "data": {
      "text/plain": [
       "array([[1., 1.]], dtype=float32)"
      ]
     },
     "execution_count": 27,
     "metadata": {},
     "output_type": "execute_result"
    }
   ],
   "source": [
    "a=[[1,1]]\n",
    "np.asarray(a,dtype=np.float32)"
   ]
  },
  {
   "cell_type": "code",
   "execution_count": 30,
   "id": "37c8b11a",
   "metadata": {},
   "outputs": [
    {
     "data": {
      "text/plain": [
       "False"
      ]
     },
     "execution_count": 30,
     "metadata": {},
     "output_type": "execute_result"
    }
   ],
   "source": [
    "issubclass(np.ndarray,np.matrix)"
   ]
  },
  {
   "cell_type": "markdown",
   "id": "95b4d6ef",
   "metadata": {},
   "source": [
    "### numpy.asanyarray"
   ]
  },
  {
   "cell_type": "code",
   "execution_count": 34,
   "id": "cff5e9b2",
   "metadata": {},
   "outputs": [
    {
     "data": {
      "text/plain": [
       "matrix([[1, 1]])"
      ]
     },
     "execution_count": 34,
     "metadata": {},
     "output_type": "execute_result"
    }
   ],
   "source": [
    "a=np.mat([1,1])\n",
    "np.asanyarray(a)#it will not convert mat to arr"
   ]
  },
  {
   "cell_type": "code",
   "execution_count": 36,
   "id": "48807d99",
   "metadata": {},
   "outputs": [],
   "source": [
    "#create an array with a reference y and a copy z\n",
    "x=np.array([1,2,3])\n",
    "y=x#solo copy"
   ]
  },
  {
   "cell_type": "code",
   "execution_count": 46,
   "id": "64ee529b",
   "metadata": {},
   "outputs": [
    {
     "name": "stdout",
     "output_type": "stream",
     "text": [
      "[1. 2. 3.]\n"
     ]
    },
    {
     "data": {
      "text/plain": [
       "array([1, 2, 3])"
      ]
     },
     "execution_count": 46,
     "metadata": {},
     "output_type": "execute_result"
    }
   ],
   "source": [
    "z=y.copy()#it will not reflect changes\n",
    "#deep copy\n",
    "print(z.astype(float))\n",
    "y"
   ]
  },
  {
   "cell_type": "markdown",
   "id": "87d2ce56",
   "metadata": {},
   "source": [
    "### numpy.fromfunction"
   ]
  },
  {
   "cell_type": "code",
   "execution_count": 47,
   "id": "f48fd409",
   "metadata": {},
   "outputs": [],
   "source": [
    "#it construct an array by executing a fnc over each cordinate"
   ]
  },
  {
   "cell_type": "code",
   "execution_count": 63,
   "id": "6e7e49f6",
   "metadata": {},
   "outputs": [
    {
     "data": {
      "text/plain": [
       "array([[ True, False, False],\n",
       "       [False,  True, False],\n",
       "       [False, False,  True]])"
      ]
     },
     "execution_count": 63,
     "metadata": {},
     "output_type": "execute_result"
    }
   ],
   "source": [
    "np.fromfunction(lambda i ,j: i==j ,(3,3),dtype=int)"
   ]
  },
  {
   "cell_type": "code",
   "execution_count": 68,
   "id": "20dccd18",
   "metadata": {},
   "outputs": [
    {
     "data": {
      "text/plain": [
       "array([[0, 0, 0],\n",
       "       [0, 1, 2],\n",
       "       [0, 2, 4]])"
      ]
     },
     "execution_count": 68,
     "metadata": {},
     "output_type": "execute_result"
    }
   ],
   "source": [
    "np.fromfunction(lambda i ,j: i*j ,(3,3),dtype=int)"
   ]
  },
  {
   "cell_type": "code",
   "execution_count": 77,
   "id": "2288f800",
   "metadata": {},
   "outputs": [
    {
     "data": {
      "text/plain": [
       "array([[[[0, 0, 0],\n",
       "         [0, 0, 0],\n",
       "         [0, 0, 0]],\n",
       "\n",
       "        [[0, 0, 0],\n",
       "         [0, 0, 0],\n",
       "         [0, 0, 0]],\n",
       "\n",
       "        [[0, 0, 0],\n",
       "         [0, 0, 0],\n",
       "         [0, 0, 0]]],\n",
       "\n",
       "\n",
       "       [[[0, 0, 0],\n",
       "         [0, 0, 0],\n",
       "         [0, 0, 0]],\n",
       "\n",
       "        [[0, 0, 0],\n",
       "         [0, 1, 2],\n",
       "         [0, 2, 4]],\n",
       "\n",
       "        [[0, 0, 0],\n",
       "         [0, 2, 4],\n",
       "         [0, 4, 8]]]])"
      ]
     },
     "execution_count": 77,
     "metadata": {},
     "output_type": "execute_result"
    }
   ],
   "source": [
    "np.fromfunction(lambda i,j,k,l:i*j*k*l,(2,3,3,3),dtype=int)"
   ]
  },
  {
   "cell_type": "code",
   "execution_count": 88,
   "id": "8c41edf8",
   "metadata": {},
   "outputs": [
    {
     "data": {
      "text/plain": [
       "<generator object <genexpr> at 0x0000017520FB1740>"
      ]
     },
     "execution_count": 88,
     "metadata": {},
     "output_type": "execute_result"
    }
   ],
   "source": [
    "#create a new 1d array from iterable obj\n",
    "iterable=(i*i for i in range(4))\n",
    "iterable"
   ]
  },
  {
   "cell_type": "code",
   "execution_count": 89,
   "id": "8b2eb4b4",
   "metadata": {},
   "outputs": [
    {
     "data": {
      "text/plain": [
       "array([0, 1, 4, 9])"
      ]
     },
     "execution_count": 89,
     "metadata": {},
     "output_type": "execute_result"
    }
   ],
   "source": [
    "np.fromiter(iterable,dtype=int)"
   ]
  },
  {
   "cell_type": "code",
   "execution_count": 91,
   "id": "16af180f",
   "metadata": {},
   "outputs": [],
   "source": [
    "x1=np.array([1,12,34,4])\n",
    "x2=np.array([1,5,3423,4])\n",
    "x3=np.array([1,14,343,4])\n",
    "x4=np.array([1,13,324,4])"
   ]
  },
  {
   "cell_type": "code",
   "execution_count": 95,
   "id": "15e172c1",
   "metadata": {},
   "outputs": [],
   "source": [
    "record=np.core.records.fromarrays([x1,x2,x3,x4],names=\"a,b,c,d\")"
   ]
  },
  {
   "cell_type": "markdown",
   "id": "a1ac629e",
   "metadata": {},
   "source": [
    "### data types"
   ]
  },
  {
   "cell_type": "code",
   "execution_count": 112,
   "id": "dedc0131",
   "metadata": {},
   "outputs": [
    {
     "name": "stdout",
     "output_type": "stream",
     "text": [
      "type <class 'numpy.ndarray'>\n",
      "dimension of array is 2\n",
      "-----------\n",
      "[[1 2 3]\n",
      " [4 5 6]\n",
      " [7 8 9]]\n",
      "-----------\n",
      "dtype is int32\n"
     ]
    }
   ],
   "source": [
    "mat=[[1,2,3],[4,5,6],[7,8,9]]\n",
    "mat=np.array(mat)\n",
    "print(f\"type {type(mat)}\")\n",
    "print(f\"dimension of array is {mat.ndim}\")\n",
    "print(\"-----------\")\n",
    "print(f\"{mat}\")\n",
    "print(\"-----------\")\n",
    "print(f\"dtype is {mat.dtype}\")"
   ]
  },
  {
   "cell_type": "markdown",
   "id": "a8d85c9a",
   "metadata": {},
   "source": [
    "### arange and linspace"
   ]
  },
  {
   "cell_type": "code",
   "execution_count": 115,
   "id": "f4cfc2fa",
   "metadata": {},
   "outputs": [
    {
     "ename": "TypeError",
     "evalue": "'float' object cannot be interpreted as an integer",
     "output_type": "error",
     "traceback": [
      "\u001b[1;31m---------------------------------------------------------------------------\u001b[0m",
      "\u001b[1;31mTypeError\u001b[0m                                 Traceback (most recent call last)",
      "\u001b[1;32m<ipython-input-115-aad5c601d5a5>\u001b[0m in \u001b[0;36m<module>\u001b[1;34m\u001b[0m\n\u001b[1;32m----> 1\u001b[1;33m \u001b[0mlist\u001b[0m\u001b[1;33m(\u001b[0m\u001b[0mrange\u001b[0m\u001b[1;33m(\u001b[0m\u001b[1;36m1\u001b[0m\u001b[1;33m,\u001b[0m\u001b[1;36m2\u001b[0m\u001b[1;33m,\u001b[0m\u001b[1;36m3.4\u001b[0m\u001b[1;33m)\u001b[0m\u001b[1;33m)\u001b[0m\u001b[1;33m\u001b[0m\u001b[1;33m\u001b[0m\u001b[0m\n\u001b[0m",
      "\u001b[1;31mTypeError\u001b[0m: 'float' object cannot be interpreted as an integer"
     ]
    }
   ],
   "source": [
    "list(range(1,2,3.4))#it doesnt work with  floating point"
   ]
  },
  {
   "cell_type": "code",
   "execution_count": 116,
   "id": "1e726376",
   "metadata": {},
   "outputs": [
    {
     "data": {
      "text/plain": [
       "array([ 5. ,  7.3,  9.6, 11.9, 14.2])"
      ]
     },
     "execution_count": 116,
     "metadata": {},
     "output_type": "execute_result"
    }
   ],
   "source": [
    "np.arange(5,16,2.3) #it will deal with floating point no"
   ]
  },
  {
   "cell_type": "code",
   "execution_count": 118,
   "id": "faa561b8",
   "metadata": {},
   "outputs": [
    {
     "data": {
      "text/plain": [
       "array([18, 17, 16, 15, 14, 13, 12, 11, 10,  9,  8,  7,  6,  5,  4,  3,  2])"
      ]
     },
     "execution_count": 118,
     "metadata": {},
     "output_type": "execute_result"
    }
   ],
   "source": [
    "np.arange(18,1,-1)"
   ]
  },
  {
   "cell_type": "code",
   "execution_count": 121,
   "id": "ee630642",
   "metadata": {},
   "outputs": [
    {
     "data": {
      "text/plain": [
       "array([1.        , 1.10344828, 1.20689655, 1.31034483, 1.4137931 ,\n",
       "       1.51724138, 1.62068966, 1.72413793, 1.82758621, 1.93103448,\n",
       "       2.03448276, 2.13793103, 2.24137931, 2.34482759, 2.44827586,\n",
       "       2.55172414, 2.65517241, 2.75862069, 2.86206897, 2.96551724,\n",
       "       3.06896552, 3.17241379, 3.27586207, 3.37931034, 3.48275862,\n",
       "       3.5862069 , 3.68965517, 3.79310345, 3.89655172, 4.        ])"
      ]
     },
     "execution_count": 121,
     "metadata": {},
     "output_type": "execute_result"
    }
   ],
   "source": [
    "np.linspace(1,4,30)# 3rd one is not stepsize it is number size"
   ]
  },
  {
   "cell_type": "code",
   "execution_count": 124,
   "id": "f425358a",
   "metadata": {},
   "outputs": [
    {
     "data": {
      "text/plain": [
       "array([1. , 1.1, 1.2, 1.3, 1.4, 1.5, 1.6, 1.7, 1.8, 1.9, 2. , 2.1, 2.2,\n",
       "       2.3, 2.4, 2.5, 2.6, 2.7, 2.8, 2.9, 3. , 3.1, 3.2, 3.3, 3.4, 3.5,\n",
       "       3.6, 3.7, 3.8, 3.9])"
      ]
     },
     "execution_count": 124,
     "metadata": {},
     "output_type": "execute_result"
    }
   ],
   "source": [
    "np.linspace(1,4,30,endpoint=False)# 3rd one is not stepsize it is number size"
   ]
  },
  {
   "cell_type": "markdown",
   "id": "9a762bbd",
   "metadata": {},
   "source": [
    "### matrix creation"
   ]
  },
  {
   "cell_type": "code",
   "execution_count": 132,
   "id": "12982755",
   "metadata": {},
   "outputs": [
    {
     "name": "stdout",
     "output_type": "stream",
     "text": [
      "[0. 0. 0.]\n"
     ]
    }
   ],
   "source": [
    "print(np.zeros(3))"
   ]
  },
  {
   "cell_type": "code",
   "execution_count": 140,
   "id": "0a967e99",
   "metadata": {},
   "outputs": [
    {
     "data": {
      "text/plain": [
       "array([[[0., 0.]],\n",
       "\n",
       "       [[0., 0.]]])"
      ]
     },
     "execution_count": 140,
     "metadata": {},
     "output_type": "execute_result"
    }
   ],
   "source": [
    "np.zeros((2,1,2))"
   ]
  },
  {
   "cell_type": "code",
   "execution_count": 141,
   "id": "1acc3ccf",
   "metadata": {},
   "outputs": [
    {
     "data": {
      "text/plain": [
       "array([[[1., 1.]],\n",
       "\n",
       "       [[1., 1.]]])"
      ]
     },
     "execution_count": 141,
     "metadata": {},
     "output_type": "execute_result"
    }
   ],
   "source": [
    "np.zeros((2,1,2))+1"
   ]
  },
  {
   "cell_type": "code",
   "execution_count": 143,
   "id": "a238181b",
   "metadata": {},
   "outputs": [
    {
     "data": {
      "text/plain": [
       "array([[[4., 4.]],\n",
       "\n",
       "       [[4., 4.]]])"
      ]
     },
     "execution_count": 143,
     "metadata": {},
     "output_type": "execute_result"
    }
   ],
   "source": [
    "np.ones((2,1,2))*4"
   ]
  },
  {
   "cell_type": "code",
   "execution_count": 144,
   "id": "127c0c9d",
   "metadata": {},
   "outputs": [
    {
     "data": {
      "text/plain": [
       "array([[[0.08333333, 0.08333333]],\n",
       "\n",
       "       [[0.08333333, 0.08333333]]])"
      ]
     },
     "execution_count": 144,
     "metadata": {},
     "output_type": "execute_result"
    }
   ],
   "source": [
    "np.ones((2,1,2))/12"
   ]
  },
  {
   "cell_type": "code",
   "execution_count": 145,
   "id": "3b817885",
   "metadata": {},
   "outputs": [
    {
     "data": {
      "text/plain": [
       "array([[0.08333333]])"
      ]
     },
     "execution_count": 145,
     "metadata": {},
     "output_type": "execute_result"
    }
   ],
   "source": [
    "np.empty((1,1))"
   ]
  },
  {
   "cell_type": "code",
   "execution_count": 147,
   "id": "fbe21368",
   "metadata": {},
   "outputs": [
    {
     "data": {
      "text/plain": [
       "array([[1., 0., 0., 0.],\n",
       "       [0., 1., 0., 0.],\n",
       "       [0., 0., 1., 0.],\n",
       "       [0., 0., 0., 1.]])"
      ]
     },
     "execution_count": 147,
     "metadata": {},
     "output_type": "execute_result"
    }
   ],
   "source": [
    "identity_mat=np.eye(4)\n",
    "identity_mat"
   ]
  },
  {
   "cell_type": "code",
   "execution_count": 151,
   "id": "bc0a14dd",
   "metadata": {},
   "outputs": [
    {
     "data": {
      "text/plain": [
       "array([ 25.        ,  42.74939867,  73.10044346, 125.        ])"
      ]
     },
     "execution_count": 151,
     "metadata": {},
     "output_type": "execute_result"
    }
   ],
   "source": [
    "np.logspace(2,3,num=4,base=5)"
   ]
  },
  {
   "cell_type": "code",
   "execution_count": 152,
   "id": "8509ec66",
   "metadata": {},
   "outputs": [],
   "source": [
    "#scaler is a which has no dim\n",
    "#vector is a which has min 2 dim"
   ]
  },
  {
   "cell_type": "code",
   "execution_count": 157,
   "id": "32542dae",
   "metadata": {},
   "outputs": [
    {
     "data": {
      "text/plain": [
       "array([10., 10., 10., 10., 10., 10., 10., 10., 10., 10.])"
      ]
     },
     "execution_count": 157,
     "metadata": {},
     "output_type": "execute_result"
    }
   ],
   "source": [
    "# assgn\n",
    "# 1.\n",
    "np.zeros(10)+5*2"
   ]
  },
  {
   "cell_type": "code",
   "execution_count": 158,
   "id": "82538720",
   "metadata": {},
   "outputs": [
    {
     "data": {
      "text/plain": [
       "array([4.        , 4.05063291, 4.10126582, 4.15189873, 4.20253165,\n",
       "       4.25316456, 4.30379747, 4.35443038, 4.40506329, 4.4556962 ,\n",
       "       4.50632911, 4.55696203, 4.60759494, 4.65822785, 4.70886076,\n",
       "       4.75949367, 4.81012658, 4.86075949, 4.91139241, 4.96202532,\n",
       "       5.01265823, 5.06329114, 5.11392405, 5.16455696, 5.21518987,\n",
       "       5.26582278, 5.3164557 , 5.36708861, 5.41772152, 5.46835443,\n",
       "       5.51898734, 5.56962025, 5.62025316, 5.67088608, 5.72151899,\n",
       "       5.7721519 , 5.82278481, 5.87341772, 5.92405063, 5.97468354,\n",
       "       6.02531646, 6.07594937, 6.12658228, 6.17721519, 6.2278481 ,\n",
       "       6.27848101, 6.32911392, 6.37974684, 6.43037975, 6.48101266,\n",
       "       6.53164557, 6.58227848, 6.63291139, 6.6835443 , 6.73417722,\n",
       "       6.78481013, 6.83544304, 6.88607595, 6.93670886, 6.98734177,\n",
       "       7.03797468, 7.08860759, 7.13924051, 7.18987342, 7.24050633,\n",
       "       7.29113924, 7.34177215, 7.39240506, 7.44303797, 7.49367089,\n",
       "       7.5443038 , 7.59493671, 7.64556962, 7.69620253, 7.74683544,\n",
       "       7.79746835, 7.84810127, 7.89873418, 7.94936709, 8.        ])"
      ]
     },
     "execution_count": 158,
     "metadata": {},
     "output_type": "execute_result"
    }
   ],
   "source": [
    "np.linspace(4,8,80)"
   ]
  },
  {
   "cell_type": "code",
   "execution_count": 160,
   "id": "8772f7f7",
   "metadata": {},
   "outputs": [
    {
     "data": {
      "text/plain": [
       "matrix([[ 1, 12,  3,  4,  5]])"
      ]
     },
     "execution_count": 160,
     "metadata": {},
     "output_type": "execute_result"
    }
   ],
   "source": [
    "lists=[1,12,3,4,5]\n",
    "np.mat(lists)"
   ]
  },
  {
   "cell_type": "code",
   "execution_count": 171,
   "id": "945ee098",
   "metadata": {},
   "outputs": [
    {
     "name": "stdout",
     "output_type": "stream",
     "text": [
      "3\n",
      "(4, 5, 2)\n",
      "float64\n"
     ]
    }
   ],
   "source": [
    "a=np.ones((4,5,2))\n",
    "print(a.ndim)\n",
    "print(a.shape)\n",
    "print(a.dtype)"
   ]
  },
  {
   "cell_type": "code",
   "execution_count": 172,
   "id": "75662c61",
   "metadata": {},
   "outputs": [
    {
     "data": {
      "text/plain": [
       "array([[[2., 2., 2.],\n",
       "        [2., 2., 2.],\n",
       "        [2., 2., 2.]],\n",
       "\n",
       "       [[2., 2., 2.],\n",
       "        [2., 2., 2.],\n",
       "        [2., 2., 2.]],\n",
       "\n",
       "       [[2., 2., 2.],\n",
       "        [2., 2., 2.],\n",
       "        [2., 2., 2.]]])"
      ]
     },
     "execution_count": 172,
     "metadata": {},
     "output_type": "execute_result"
    }
   ],
   "source": [
    "x1=np.ones((3,3,3))\n",
    "x2=np.ones((3,3,3))\n",
    "x1+x2"
   ]
  },
  {
   "cell_type": "markdown",
   "id": "8241cebf",
   "metadata": {},
   "source": [
    "### reshape,diag"
   ]
  },
  {
   "cell_type": "code",
   "execution_count": 189,
   "id": "4c94f8ae",
   "metadata": {},
   "outputs": [
    {
     "data": {
      "text/plain": [
       "array([ 0,  1,  2,  3,  4,  5,  6,  7,  8,  9, 10, 11])"
      ]
     },
     "execution_count": 189,
     "metadata": {},
     "output_type": "execute_result"
    }
   ],
   "source": [
    "x=np.arange(12)\n",
    "x"
   ]
  },
  {
   "cell_type": "code",
   "execution_count": 191,
   "id": "79cbecee",
   "metadata": {},
   "outputs": [
    {
     "data": {
      "text/plain": [
       "array([[[[ 0]],\n",
       "\n",
       "        [[ 1]],\n",
       "\n",
       "        [[ 2]],\n",
       "\n",
       "        [[ 3]]],\n",
       "\n",
       "\n",
       "       [[[ 4]],\n",
       "\n",
       "        [[ 5]],\n",
       "\n",
       "        [[ 6]],\n",
       "\n",
       "        [[ 7]]],\n",
       "\n",
       "\n",
       "       [[[ 8]],\n",
       "\n",
       "        [[ 9]],\n",
       "\n",
       "        [[10]],\n",
       "\n",
       "        [[11]]]])"
      ]
     },
     "execution_count": 191,
     "metadata": {},
     "output_type": "execute_result"
    }
   ],
   "source": [
    "x.reshape(3,4,1,1)"
   ]
  },
  {
   "cell_type": "code",
   "execution_count": 192,
   "id": "0566fd90",
   "metadata": {},
   "outputs": [
    {
     "data": {
      "text/plain": [
       "array([[ 0,  0,  0,  0,  0,  0,  0,  0,  0,  0,  0,  0],\n",
       "       [ 0,  1,  0,  0,  0,  0,  0,  0,  0,  0,  0,  0],\n",
       "       [ 0,  0,  2,  0,  0,  0,  0,  0,  0,  0,  0,  0],\n",
       "       [ 0,  0,  0,  3,  0,  0,  0,  0,  0,  0,  0,  0],\n",
       "       [ 0,  0,  0,  0,  4,  0,  0,  0,  0,  0,  0,  0],\n",
       "       [ 0,  0,  0,  0,  0,  5,  0,  0,  0,  0,  0,  0],\n",
       "       [ 0,  0,  0,  0,  0,  0,  6,  0,  0,  0,  0,  0],\n",
       "       [ 0,  0,  0,  0,  0,  0,  0,  7,  0,  0,  0,  0],\n",
       "       [ 0,  0,  0,  0,  0,  0,  0,  0,  8,  0,  0,  0],\n",
       "       [ 0,  0,  0,  0,  0,  0,  0,  0,  0,  9,  0,  0],\n",
       "       [ 0,  0,  0,  0,  0,  0,  0,  0,  0,  0, 10,  0],\n",
       "       [ 0,  0,  0,  0,  0,  0,  0,  0,  0,  0,  0, 11]])"
      ]
     },
     "execution_count": 192,
     "metadata": {},
     "output_type": "execute_result"
    }
   ],
   "source": [
    "np.diag(x)"
   ]
  },
  {
   "cell_type": "code",
   "execution_count": 204,
   "id": "b5539159",
   "metadata": {},
   "outputs": [
    {
     "data": {
      "text/plain": [
       "array([[1, 0],\n",
       "       [0, 5]])"
      ]
     },
     "execution_count": 204,
     "metadata": {},
     "output_type": "execute_result"
    }
   ],
   "source": [
    "x=np.array([[1,2,3],[4,5,6]])\n",
    "np.diag(np.diag(x))"
   ]
  },
  {
   "cell_type": "code",
   "execution_count": 211,
   "id": "35b9a878",
   "metadata": {},
   "outputs": [
    {
     "data": {
      "text/plain": [
       "array([[1, 0, 0, 0],\n",
       "       [0, 2, 0, 0],\n",
       "       [0, 0, 3, 0],\n",
       "       [0, 0, 0, 4]])"
      ]
     },
     "execution_count": 211,
     "metadata": {},
     "output_type": "execute_result"
    }
   ],
   "source": [
    "#create a 2d array with the flattened input as a diagonal\n",
    "np.diagflat([[1,2],[3,4]],k=0)"
   ]
  },
  {
   "cell_type": "code",
   "execution_count": 225,
   "id": "99972c8b",
   "metadata": {},
   "outputs": [
    {
     "data": {
      "text/plain": [
       "array([[1, 0, 0, 0, 0],\n",
       "       [1, 1, 0, 0, 0],\n",
       "       [1, 1, 1, 0, 0],\n",
       "       [1, 1, 1, 1, 0],\n",
       "       [1, 1, 1, 1, 1]])"
      ]
     },
     "execution_count": 225,
     "metadata": {},
     "output_type": "execute_result"
    }
   ],
   "source": [
    "np.tri(5,5,0,dtype=int)"
   ]
  },
  {
   "cell_type": "code",
   "execution_count": 231,
   "id": "a209d767",
   "metadata": {},
   "outputs": [
    {
     "data": {
      "text/plain": [
       "array([[1., 1., 0., 0.],\n",
       "       [1., 1., 1., 0.],\n",
       "       [1., 1., 1., 1.]])"
      ]
     },
     "execution_count": 231,
     "metadata": {},
     "output_type": "execute_result"
    }
   ],
   "source": [
    "np.tri(3,4,k=1)"
   ]
  },
  {
   "cell_type": "code",
   "execution_count": 232,
   "id": "aa385303",
   "metadata": {},
   "outputs": [
    {
     "data": {
      "text/plain": [
       "array([[1, 0, 0],\n",
       "       [4, 5, 0],\n",
       "       [7, 8, 9]])"
      ]
     },
     "execution_count": 232,
     "metadata": {},
     "output_type": "execute_result"
    }
   ],
   "source": [
    "np.tril([[1,2,3],[4,5,6],[7,8,9]], 0)"
   ]
  },
  {
   "cell_type": "code",
   "execution_count": 233,
   "id": "3acb6556",
   "metadata": {},
   "outputs": [
    {
     "data": {
      "text/plain": [
       "array([[0, 2, 3],\n",
       "       [0, 0, 6],\n",
       "       [0, 0, 0],\n",
       "       [0, 0, 0]])"
      ]
     },
     "execution_count": 233,
     "metadata": {},
     "output_type": "execute_result"
    }
   ],
   "source": [
    "np.triu([[1,2,3],[4,5,6],[7,8,9],[10,11,12]], 1)"
   ]
  },
  {
   "cell_type": "code",
   "execution_count": 239,
   "id": "e5531ad3",
   "metadata": {},
   "outputs": [
    {
     "data": {
      "text/plain": [
       "array([[ 1,  2,  3],\n",
       "       [ 4,  5,  6],\n",
       "       [ 0,  8,  9],\n",
       "       [ 0,  0, 12]])"
      ]
     },
     "execution_count": 239,
     "metadata": {},
     "output_type": "execute_result"
    }
   ],
   "source": [
    "np.triu([[1,2,3],[4,5,6],[7,8,9],[10,11,12]], -1)"
   ]
  },
  {
   "cell_type": "markdown",
   "id": "60ad8ef6",
   "metadata": {},
   "source": [
    "### random number generation"
   ]
  },
  {
   "cell_type": "code",
   "execution_count": 265,
   "id": "2b1e6dec",
   "metadata": {},
   "outputs": [
    {
     "name": "stdout",
     "output_type": "stream",
     "text": [
      "rand no gen from uniform distribution\n"
     ]
    },
    {
     "data": {
      "text/plain": [
       "array([[0.51963892],\n",
       "       [0.53596222]])"
      ]
     },
     "execution_count": 265,
     "metadata": {},
     "output_type": "execute_result"
    }
   ],
   "source": [
    "print(\"rand no gen from uniform distribution\")\n",
    "np.random.rand(2,1)#it will generate from 0 to 1"
   ]
  },
  {
   "cell_type": "code",
   "execution_count": 268,
   "id": "a5add844",
   "metadata": {},
   "outputs": [
    {
     "name": "stdout",
     "output_type": "stream",
     "text": [
      "no from normal distribution with mean 0 and std 1\n",
      "[[[ 1.13532991 -0.16476282  2.30252047]\n",
      "  [-0.94666815  0.06637766 -0.56546524]\n",
      "  [-0.71805859 -0.77554004  0.94938579]]\n",
      "\n",
      " [[ 0.01587707  0.65258024  1.18147712]\n",
      "  [-1.01351576  0.8534275   0.66855984]\n",
      "  [-0.51350923  2.69632204  0.41528272]]\n",
      "\n",
      " [[-1.11900395  0.38575765  0.05722865]\n",
      "  [-2.16453645 -0.12292836  0.20297283]\n",
      "  [ 0.87081863  1.48814034 -1.9482457 ]]]\n"
     ]
    }
   ],
   "source": [
    "print(\"no from normal distribution with mean 0 and std 1\")\n",
    "print(np.random.randn(3,3,3))"
   ]
  },
  {
   "cell_type": "code",
   "execution_count": 271,
   "id": "383b837f",
   "metadata": {},
   "outputs": [
    {
     "data": {
      "text/plain": [
       "array([[[16, 29, 46, 30],\n",
       "        [57, 75, 64, 52],\n",
       "        [58, 57, 61, 11],\n",
       "        [14, 79, 76, 20]],\n",
       "\n",
       "       [[80, 34, 70, 46],\n",
       "        [66,  8, 56, 12],\n",
       "        [47, 60, 63, 27],\n",
       "        [56, 66, 28, 43]],\n",
       "\n",
       "       [[89, 41, 65, 79],\n",
       "        [31, 65, 67,  4],\n",
       "        [74,  8, 17, 24],\n",
       "        [42, 67, 16, 56]],\n",
       "\n",
       "       [[22, 17, 28, 10],\n",
       "        [ 3, 14, 37, 86],\n",
       "        [46, 72, 81,  8],\n",
       "        [57, 73, 51, 41]]])"
      ]
     },
     "execution_count": 271,
     "metadata": {},
     "output_type": "execute_result"
    }
   ],
   "source": [
    "np.random.randint(2,90,(4,4,4))"
   ]
  },
  {
   "cell_type": "markdown",
   "id": "25e08434",
   "metadata": {},
   "source": [
    "### reshaping"
   ]
  },
  {
   "cell_type": "code",
   "execution_count": 34,
   "id": "50c81a89",
   "metadata": {},
   "outputs": [],
   "source": [
    "import numpy as np\n",
    "from numpy.random import randn as rn\n",
    "r=rn(1,3,3).reshape(3,3)"
   ]
  },
  {
   "cell_type": "code",
   "execution_count": 60,
   "id": "7222bd4d",
   "metadata": {},
   "outputs": [
    {
     "data": {
      "text/plain": [
       "array([[-0.64396046,  0.50909688, -1.00666594],\n",
       "       [-0.03094769,  0.96825771, -0.64600047],\n",
       "       [ 0.24581557,  1.15997178,  1.30206836]])"
      ]
     },
     "execution_count": 60,
     "metadata": {},
     "output_type": "execute_result"
    }
   ],
   "source": [
    "np.sort(r,axis=0)"
   ]
  },
  {
   "cell_type": "code",
   "execution_count": 61,
   "id": "cf270d85",
   "metadata": {},
   "outputs": [
    {
     "data": {
      "text/plain": [
       "1.3020683610710866"
      ]
     },
     "execution_count": 61,
     "metadata": {},
     "output_type": "execute_result"
    }
   ],
   "source": [
    "r.max()"
   ]
  },
  {
   "cell_type": "code",
   "execution_count": 63,
   "id": "3887f200",
   "metadata": {},
   "outputs": [
    {
     "data": {
      "text/plain": [
       "array([[-0.64396046,  1.15997178,  1.30206836],\n",
       "       [-0.03094769,  0.50909688, -0.64600047],\n",
       "       [ 0.24581557,  0.96825771, -1.00666594]])"
      ]
     },
     "execution_count": 63,
     "metadata": {},
     "output_type": "execute_result"
    }
   ],
   "source": [
    "r"
   ]
  },
  {
   "cell_type": "code",
   "execution_count": 62,
   "id": "7ba7efa9",
   "metadata": {},
   "outputs": [
    {
     "data": {
      "text/plain": [
       "-1.0066659351983598"
      ]
     },
     "execution_count": 62,
     "metadata": {},
     "output_type": "execute_result"
    }
   ],
   "source": [
    "r.min()"
   ]
  },
  {
   "cell_type": "code",
   "execution_count": 65,
   "id": "76508118",
   "metadata": {},
   "outputs": [
    {
     "data": {
      "text/plain": [
       "array([2, 1, 1], dtype=int64)"
      ]
     },
     "execution_count": 65,
     "metadata": {},
     "output_type": "execute_result"
    }
   ],
   "source": [
    "r.argmax(axis=1)#return the index of the max value"
   ]
  },
  {
   "cell_type": "markdown",
   "id": "64e14aa1",
   "metadata": {},
   "source": [
    "### Indexing and slicing"
   ]
  },
  {
   "cell_type": "code",
   "execution_count": 66,
   "id": "b12a7391",
   "metadata": {},
   "outputs": [
    {
     "data": {
      "text/plain": [
       "array([ 0,  1,  2,  3,  4,  5,  6,  7,  8,  9, 10])"
      ]
     },
     "execution_count": 66,
     "metadata": {},
     "output_type": "execute_result"
    }
   ],
   "source": [
    "arr=np.arange(0,11)\n",
    "arr"
   ]
  },
  {
   "cell_type": "code",
   "execution_count": 67,
   "id": "730ffd08",
   "metadata": {},
   "outputs": [
    {
     "data": {
      "text/plain": [
       "10"
      ]
     },
     "execution_count": 67,
     "metadata": {},
     "output_type": "execute_result"
    }
   ],
   "source": [
    "arr[10]"
   ]
  },
  {
   "cell_type": "code",
   "execution_count": 68,
   "id": "eaaa0201",
   "metadata": {},
   "outputs": [
    {
     "data": {
      "text/plain": [
       "array([0, 1, 2, 3, 4, 5, 6, 7, 8, 9])"
      ]
     },
     "execution_count": 68,
     "metadata": {},
     "output_type": "execute_result"
    }
   ],
   "source": [
    "#slicing concept\n",
    "arr[:10]"
   ]
  },
  {
   "cell_type": "code",
   "execution_count": 69,
   "id": "0d975809",
   "metadata": {},
   "outputs": [
    {
     "data": {
      "text/plain": [
       "array([3, 4])"
      ]
     },
     "execution_count": 69,
     "metadata": {},
     "output_type": "execute_result"
    }
   ],
   "source": [
    "arr[3:5]"
   ]
  },
  {
   "cell_type": "code",
   "execution_count": 70,
   "id": "07fff237",
   "metadata": {},
   "outputs": [
    {
     "data": {
      "text/plain": [
       "array([10,  9,  8,  7,  6,  5,  4,  3,  2,  1,  0])"
      ]
     },
     "execution_count": 70,
     "metadata": {},
     "output_type": "execute_result"
    }
   ],
   "source": [
    "arr[::-1]"
   ]
  },
  {
   "cell_type": "code",
   "execution_count": 71,
   "id": "f6cdca6e",
   "metadata": {},
   "outputs": [
    {
     "data": {
      "text/plain": [
       "array([1, 3, 5, 7, 9])"
      ]
     },
     "execution_count": 71,
     "metadata": {},
     "output_type": "execute_result"
    }
   ],
   "source": [
    "arr[1:10:2]"
   ]
  },
  {
   "cell_type": "code",
   "execution_count": 73,
   "id": "21caa50c",
   "metadata": {},
   "outputs": [
    {
     "data": {
      "text/plain": [
       "array([2, 4, 6, 8])"
      ]
     },
     "execution_count": 73,
     "metadata": {},
     "output_type": "execute_result"
    }
   ],
   "source": [
    "arr[2:10:2]"
   ]
  },
  {
   "cell_type": "code",
   "execution_count": 95,
   "id": "0bdd21d5",
   "metadata": {},
   "outputs": [
    {
     "data": {
      "text/plain": [
       "array([[[ 10.        ,  12.04545455,  14.09090909],\n",
       "        [ 16.13636364,  18.18181818,  20.22727273],\n",
       "        [ 22.27272727,  24.31818182,  26.36363636],\n",
       "        [ 28.40909091,  30.45454545,  32.5       ],\n",
       "        [ 34.54545455,  36.59090909,  38.63636364]],\n",
       "\n",
       "       [[ 40.68181818,  42.72727273,  44.77272727],\n",
       "        [ 46.81818182,  48.86363636,  50.90909091],\n",
       "        [ 52.95454545,  55.        ,  57.04545455],\n",
       "        [ 59.09090909,  61.13636364,  63.18181818],\n",
       "        [ 65.22727273,  67.27272727,  69.31818182]],\n",
       "\n",
       "       [[ 71.36363636,  73.40909091,  75.45454545],\n",
       "        [ 77.5       ,  79.54545455,  81.59090909],\n",
       "        [ 83.63636364,  85.68181818,  87.72727273],\n",
       "        [ 89.77272727,  91.81818182,  93.86363636],\n",
       "        [ 95.90909091,  97.95454545, 100.        ]]])"
      ]
     },
     "execution_count": 95,
     "metadata": {},
     "output_type": "execute_result"
    }
   ],
   "source": [
    "mat=np.linspace(10,100,45).reshape(3,5,3)\n",
    "mat"
   ]
  },
  {
   "cell_type": "code",
   "execution_count": 98,
   "id": "c5125c86",
   "metadata": {},
   "outputs": [
    {
     "data": {
      "text/plain": [
       "array([[[10.        , 12.04545455, 14.09090909],\n",
       "        [16.13636364, 18.18181818, 20.22727273]],\n",
       "\n",
       "       [[40.68181818, 42.72727273, 44.77272727],\n",
       "        [46.81818182, 48.86363636, 50.90909091]],\n",
       "\n",
       "       [[71.36363636, 73.40909091, 75.45454545],\n",
       "        [77.5       , 79.54545455, 81.59090909]]])"
      ]
     },
     "execution_count": 98,
     "metadata": {},
     "output_type": "execute_result"
    }
   ],
   "source": [
    "mat[:,:2]"
   ]
  }
 ],
 "metadata": {
  "kernelspec": {
   "display_name": "Python 3",
   "language": "python",
   "name": "python3"
  },
  "language_info": {
   "codemirror_mode": {
    "name": "ipython",
    "version": 3
   },
   "file_extension": ".py",
   "mimetype": "text/x-python",
   "name": "python",
   "nbconvert_exporter": "python",
   "pygments_lexer": "ipython3",
   "version": "3.8.8"
  }
 },
 "nbformat": 4,
 "nbformat_minor": 5
}
